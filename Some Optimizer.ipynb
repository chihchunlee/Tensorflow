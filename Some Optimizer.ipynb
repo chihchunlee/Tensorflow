{
 "cells": [
  {
   "cell_type": "markdown",
   "id": "mathematical-separation",
   "metadata": {},
   "source": [
    "## Some Optimizer 優化器"
   ]
  },
  {
   "cell_type": "markdown",
   "id": "respective-festival",
   "metadata": {},
   "source": [
    "優化器 給電腦一個函數 他可以幫你找到這個函數的區域最小值\n",
    "-  迴圈不重要的變數 故命_\n",
    "-  variable 初始化 with tf.Session() as sess:\n",
    "                        - sess.run(tf.global_variables_initializer())"
   ]
  },
  {
   "cell_type": "code",
   "execution_count": 17,
   "id": "abstract-smooth",
   "metadata": {},
   "outputs": [
    {
     "name": "stdout",
     "output_type": "stream",
     "text": [
      "when x = -0.2289120852947235, y have min value\n"
     ]
    }
   ],
   "source": [
    "import tensorflow as tf\n",
    "\n",
    "learning_rate = 0.01\n",
    "a = tf.constant(2.0)\n",
    "b = tf.constant(1.0)\n",
    "c = tf.constant(3.0)\n",
    "x = tf.Variable(tf.constant(1.0), name='x')\n",
    "y = a*x*x + b*x + c\n",
    "\n",
    "optimizer = tf.train.GradientDescentOptimizer(learning_rate).minimize(y)\n",
    "#optimizer = tf.train.AdamOptimizer(learning_rate).minimize(y)\n",
    "#optimizer = tf.train.RMSPropOptimizer(learning_rate).minimize(y)\n",
    "\n",
    "with tf.Session() as sess:\n",
    "    sess.run(tf.global_variables_initializer())\n",
    "    for _ in range(100):\n",
    "        optimizer_ = sess.run(optimizer)\n",
    "    x_ = sess.run(x)    \n",
    "    print('when x = {}, y have min value'.format(x_)) "
   ]
  },
  {
   "cell_type": "markdown",
   "id": "undefined-wallpaper",
   "metadata": {},
   "source": [
    "## save model"
   ]
  },
  {
   "cell_type": "code",
   "execution_count": 18,
   "id": "framed-modem",
   "metadata": {},
   "outputs": [
    {
     "name": "stdout",
     "output_type": "stream",
     "text": [
      "when x = -0.24999982118606567, y have min value\n"
     ]
    }
   ],
   "source": [
    "import tensorflow as tf\n",
    "tf.reset_default_graph()\n",
    "\n",
    "learning_rate = 0.01\n",
    "a = tf.constant(2.0)\n",
    "b = tf.constant(1.0)\n",
    "c = tf.constant(3.0)\n",
    "x = tf.Variable(tf.constant(1.0), name='x')\n",
    "y = tf.add(a*x*x + b*x , c, name='y')\n",
    "\n",
    "optimizer = tf.train.GradientDescentOptimizer(learning_rate).minimize(y)\n",
    "#optimizer = tf.train.AdamOptimizer(learning_rate).minimize(y)\n",
    "#optimizer = tf.train.RMSPropOptimizer(learning_rate).minimize(y)\n",
    "\n",
    "saver = tf.train.Saver()\n",
    "with tf.Session() as sess:\n",
    "    sess.run(tf.global_variables_initializer())\n",
    "    for _ in range(1000):\n",
    "        optimizer_ = sess.run(optimizer)\n",
    "    x_ = sess.run(x)\n",
    "    saver.save(sess, \"Saved_model2/model.ckpt\")\n",
    "    print('when x = {}, y have min value'.format(x_))"
   ]
  },
  {
   "cell_type": "markdown",
   "id": "canadian-ranking",
   "metadata": {},
   "source": [
    "## Restore Model 1 : import tensorflow as tf "
   ]
  },
  {
   "cell_type": "code",
   "execution_count": 19,
   "id": "assisted-kenya",
   "metadata": {},
   "outputs": [
    {
     "name": "stdout",
     "output_type": "stream",
     "text": [
      "INFO:tensorflow:Restoring parameters from Saved_model2/model.ckpt\n",
      "-0.24999982\n",
      "2.875\n"
     ]
    }
   ],
   "source": [
    "import tensorflow as tf\n",
    "tf.reset_default_graph()\n",
    "\n",
    "learning_rate = 0.01\n",
    "a = tf.constant(2.0)\n",
    "b = tf.constant(1.0)\n",
    "c = tf.constant(3.0)\n",
    "x = tf.Variable(tf.constant(1.0), name='x')\n",
    "y = tf.add(a*x*x + b*x , c, name='y')\n",
    "\n",
    "optimizer = tf.train.GradientDescentOptimizer(learning_rate).minimize(y)\n",
    "#optimizer = tf.train.AdamOptimizer(learning_rate).minimize(y)\n",
    "#optimizer = tf.train.RMSPropOptimizer(learning_rate).minimize(y)\n",
    "\n",
    "saver = tf.train.Saver()\n",
    "\n",
    "with tf.Session() as sess:\n",
    "    sess.run(tf.global_variables_initializer())\n",
    "    saver.restore(sess, \"Saved_model2/model.ckpt\")\n",
    "    print(sess.run(x))\n",
    "    print(sess.run(y))"
   ]
  },
  {
   "cell_type": "markdown",
   "id": "published-senior",
   "metadata": {},
   "source": [
    "## Restore Model 2 : import_meta_graph"
   ]
  },
  {
   "cell_type": "code",
   "execution_count": 20,
   "id": "unlike-parliament",
   "metadata": {},
   "outputs": [
    {
     "name": "stdout",
     "output_type": "stream",
     "text": [
      "INFO:tensorflow:Restoring parameters from Saved_mode2/model.ckpt\n",
      "-0.24999982\n",
      "2.875\n"
     ]
    }
   ],
   "source": [
    "import tensorflow as tf\n",
    "tf.reset_default_graph()\n",
    "\n",
    "saver = tf.train.import_meta_graph(\"Saved_model2/model.ckpt.meta\")\n",
    "\n",
    "saver = tf.train.Saver()\n",
    "with tf.Session() as sess:\n",
    "    sess.run(tf.global_variables_initializer())\n",
    "    saver.restore(sess, \"Saved_mode2/model.ckpt\")\n",
    "    print(sess.run(\"x:0\"))\n",
    "    print(sess.run(\"y:0\"))"
   ]
  },
  {
   "cell_type": "code",
   "execution_count": null,
   "id": "statutory-russia",
   "metadata": {},
   "outputs": [],
   "source": []
  }
 ],
 "metadata": {
  "kernelspec": {
   "display_name": "Python 3",
   "language": "python",
   "name": "python3"
  },
  "language_info": {
   "codemirror_mode": {
    "name": "ipython",
    "version": 3
   },
   "file_extension": ".py",
   "mimetype": "text/x-python",
   "name": "python",
   "nbconvert_exporter": "python",
   "pygments_lexer": "ipython3",
   "version": "3.7.10"
  }
 },
 "nbformat": 4,
 "nbformat_minor": 5
}
