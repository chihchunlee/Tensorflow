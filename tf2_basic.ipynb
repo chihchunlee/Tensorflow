{
 "cells": [
  {
   "cell_type": "markdown",
   "metadata": {},
   "source": [
    "## Eager Execution\n",
    "\n",
    "\n",
    "TensorFlow 引入了「Eager Execution」動態圖模式，這個模式在TensorFlow2.0為預設模式，不同與以往的靜態圖模式需要建立計算圖才能執行，Eager Execution模式一旦執行就會返回數值。這使TensorFlow 更容易入門，也使研發更直觀。\n",
    "\n",
    "**Eager Execution 的優點如下：**\n",
    "\n",
    "- 立即返回數值，方便除錯。\n",
    "- 無需 Session.run() 就可以把它們的值返回到 Python。\n",
    "- 為自定義和高階梯度提供強大支援。\n",
    "- 幾乎所有 TensorFlow 運算都適用。\n",
    "\n",
    "**TensorFlow 1.x 和 TensorFlow2.0比較：**\n",
    "```\n",
    "TensorFlow 1.x code:\n",
    ">>> a = tf.constant(1)\n",
    ">>> print(a)\n",
    "Tensor(\"Const_5:0\", shape=(), dtype=int32)\n",
    "\n",
    ">>> sess = tf.Session()\n",
    ">>> print(\"a = {}\".format(sess.run(a)))\n",
    "a = 1\n",
    "\n",
    "\n",
    "TensorFlow 2.0 code:\n",
    ">>> a = tf.constant(1)\n",
    ">>> print(a)\n",
    "tf.Tensor(1, shape=(), dtype=int32)\n",
    "```"
   ]
  },
  {
   "cell_type": "code",
   "execution_count": null,
   "metadata": {},
   "outputs": [],
   "source": [
    "# TensorFlow 1.0 code\n",
    "import tensorflow as tf\n",
    "\n",
    "a = tf.constant(5, name=\"input_a\")\n",
    "b = tf.constant(3, name=\"input_b\")\n",
    "c = tf.multiply(a, b, name=\"mul_c\")\n",
    "d = tf.add(a, b, name=\"add_d\")\n",
    "e = tf.add(c, d, name=\"add_e\")\n",
    "\n",
    "with tf.Session() as sess:\n",
    "    print(sess.run(e)) # output => 23"
   ]
  },
  {
   "cell_type": "markdown",
   "metadata": {},
   "source": [
    "![Alt text](./images/basic_tensorflow/computation_graph.png)"
   ]
  },
  {
   "cell_type": "code",
   "execution_count": 1,
   "metadata": {},
   "outputs": [
    {
     "name": "stdout",
     "output_type": "stream",
     "text": [
      "Eager Execution 是否啟動: True\n"
     ]
    }
   ],
   "source": [
    "import numpy as np\n",
    "import tensorflow as tf\n",
    "\n",
    "print(\"Eager Execution 是否啟動: {}\".format(tf.executing_eagerly()))"
   ]
  },
  {
   "cell_type": "code",
   "execution_count": 3,
   "metadata": {},
   "outputs": [
    {
     "name": "stdout",
     "output_type": "stream",
     "text": [
      "tf.Tensor(3, shape=(), dtype=int32)\n",
      "3\n",
      "tf.Tensor(4, shape=(), dtype=int32)\n",
      "a = 3\n",
      "b = 4\n"
     ]
    }
   ],
   "source": [
    "a = tf.constant(3)\n",
    "b = tf.constant(4)\n",
    "print(a)\n",
    "print(a.numpy())\n",
    "print(b)\n",
    "print(\"a = {}\".format(a))\n",
    "print(\"b = {}\".format(b))"
   ]
  },
  {
   "cell_type": "code",
   "execution_count": 7,
   "metadata": {},
   "outputs": [
    {
     "name": "stdout",
     "output_type": "stream",
     "text": [
      "x: [[1 2]\n",
      " [3 4]]\n",
      "\n",
      "y: [[5 6]\n",
      " [7 8]]\n",
      "\n",
      "tf_sum: [[ 6  8]\n",
      " [10 12]]\n",
      "\n",
      "tf_sub: [[-4 -4]\n",
      " [-4 -4]]\n",
      "\n",
      "tf_mul: [[ 5 12]\n",
      " [21 32]]\n",
      "\n",
      "tf_div: [[0.2        0.33333333]\n",
      " [0.42857143 0.5       ]]\n",
      "\n",
      "tf_mod: [[1 2]\n",
      " [3 4]]\n",
      "\n",
      "tf_neg: [[-1 -2]\n",
      " [-3 -4]]\n",
      "\n"
     ]
    }
   ],
   "source": [
    "x = tf.constant([[1, 2],[3, 4]], name='x')\n",
    "y = tf.constant([[5, 6],[7, 8]], name='y')\n",
    "\n",
    "tf_sum = x + y\n",
    "tf_sub = x - y\n",
    "tf_mul = x * y\n",
    "tf_div = x / y\n",
    "tf_mod = x % y\n",
    "tf_neg = -x\n",
    "\n",
    "print(\"x: {}\\n\".format(x))\n",
    "print(\"y: {}\\n\".format(y))\n",
    "print(\"tf_sum: {}\\n\".format(tf_sum))\n",
    "print(\"tf_sub: {}\\n\".format(tf_sub))\n",
    "print(\"tf_mul: {}\\n\".format(tf_mul))\n",
    "print(\"tf_div: {}\\n\".format(tf_div))\n",
    "print(\"tf_mod: {}\\n\".format(tf_mod))\n",
    "print(\"tf_neg: {}\\n\".format(tf_neg))"
   ]
  },
  {
   "cell_type": "markdown",
   "metadata": {},
   "source": [
    "#### tf_sum = tf.math.add(x, y)\n",
    "#### tf_sub = tf.math.subtract(x, y)\n",
    "#### tf_mul = tf.math.multiply(x, y)\n",
    "#### tf_div = tf.math.divide(x,y)\n",
    "#### tf_mod = tf.math.mod(x,y)\n",
    "#### tf_neg = tf.math.negative(x)"
   ]
  },
  {
   "cell_type": "code",
   "execution_count": 4,
   "metadata": {},
   "outputs": [
    {
     "name": "stdout",
     "output_type": "stream",
     "text": [
      "x: [[1 2]\n",
      " [3 4]]\n",
      "\n",
      "y: [[5 6]\n",
      " [7 8]]\n",
      "\n",
      "tf_sum: [[ 6  8]\n",
      " [10 12]]\n",
      "\n",
      "tf_sub: [[-4 -4]\n",
      " [-4 -4]]\n",
      "\n",
      "tf_mul: [[ 5 12]\n",
      " [21 32]]\n",
      "\n",
      "tf_div: [[0.2        0.33333333]\n",
      " [0.42857143 0.5       ]]\n",
      "\n",
      "tf_mod: [[1 2]\n",
      " [3 4]]\n",
      "\n",
      "tf_neg: [[-1 -2]\n",
      " [-3 -4]]\n",
      "\n"
     ]
    }
   ],
   "source": [
    "import tensorflow as tf\n",
    "x = tf.constant([[1, 2],[3, 4]], name='x')\n",
    "y = tf.constant([[5, 6],[7, 8]], name='y')\n",
    "\n",
    "tf_sum = tf.math.add(x, y)\n",
    "tf_sub = tf.math.subtract(x, y)\n",
    "tf_mul = tf.math.multiply(x, y)\n",
    "tf_div = tf.math.divide(x,y)\n",
    "tf_mod = tf.math.mod(x,y)\n",
    "tf_neg = tf.math.negative(x)\n",
    "\n",
    "\n",
    "print(\"x: {}\\n\".format(x))\n",
    "print(\"y: {}\\n\".format(y))\n",
    "print(\"tf_sum: {}\\n\".format(tf_sum))\n",
    "print(\"tf_sub: {}\\n\".format(tf_sub))\n",
    "print(\"tf_mul: {}\\n\".format(tf_mul))\n",
    "print(\"tf_div: {}\\n\".format(tf_div))\n",
    "print(\"tf_mod: {}\\n\".format(tf_mod))\n",
    "print(\"tf_neg: {}\\n\".format(tf_neg))"
   ]
  },
  {
   "cell_type": "markdown",
   "metadata": {},
   "source": [
    "#### tf.linalg.matmul( )\n",
    "#### tf.linalg.inv(matrix1)\n",
    "#### tf.linalg.matrix_transpose(matrix1)"
   ]
  },
  {
   "cell_type": "code",
   "execution_count": 13,
   "metadata": {},
   "outputs": [
    {
     "name": "stdout",
     "output_type": "stream",
     "text": [
      "product: [[19. 22.]\n",
      " [43. 50.]]\n",
      "\n",
      "inv: [[-2.0000002   1.0000001 ]\n",
      " [ 1.5000001  -0.50000006]]\n",
      "\n",
      "trans: [[1. 3.]\n",
      " [2. 4.]]\n",
      "\n"
     ]
    }
   ],
   "source": [
    "matrix1 = tf.constant([[1.0, 2.0],[3.0, 4.0]], name='x')\n",
    "matrix2 = tf.constant([[5.0, 6.0],[7.0, 8.0]], name='y')\n",
    "\n",
    "product = tf.linalg.matmul(matrix1, matrix2)\n",
    "inv = tf.linalg.inv(matrix1)\n",
    "trans = tf.linalg.matrix_transpose(matrix1)\n",
    "\n",
    "print(\"product: {}\\n\".format(product))\n",
    "print(\"inv: {}\\n\".format(inv))\n",
    "print(\"trans: {}\\n\".format(trans))"
   ]
  },
  {
   "cell_type": "markdown",
   "metadata": {},
   "source": [
    "# Tensor Type\n",
    "There are many data type in tensorflow. Following list some common type. If you want to change the type of tensor, ```tf.cast()``` can help. Please reference the following code.\n",
    "\n",
    "| Python type | Description |  \n",
    "| :------: | :------: |  \n",
    "| tf.float32 | 32 bits floating point |\n",
    "| tf.float64 | 64 bits floating point |\n",
    "| tf.int8 | 8 bits signed integer |\n",
    "| tf.int16 | 16 bits signed integer |\n",
    "| tf.int32 | 32 bits signed integer |\n",
    "| tf.int64 | 64 bits signed integer |\n",
    "| tf.uint8 | 8 bits unsigned integer |\n",
    "| tf.uint16 | 16 bits unsigned integer |\n",
    "| tf.string | Variable length byte arrays. Each element of a Tensor is a byte array |\n",
    "| tf.bool | Boolean |"
   ]
  },
  {
   "cell_type": "markdown",
   "metadata": {},
   "source": [
    "#### tf.dtypes.cast(x_float, tf.int32)"
   ]
  },
  {
   "cell_type": "code",
   "execution_count": 15,
   "metadata": {},
   "outputs": [
    {
     "name": "stdout",
     "output_type": "stream",
     "text": [
      "x_int: [1 2]\n",
      "\n"
     ]
    }
   ],
   "source": [
    "x_float = tf.constant([1.8, 2.2], dtype=tf.float32)\n",
    "x_int = tf.dtypes.cast(x_float, tf.int32)\n",
    "\n",
    "print(\"x_int: {}\\n\".format(x_int))"
   ]
  },
  {
   "cell_type": "markdown",
   "metadata": {},
   "source": []
  },
  {
   "cell_type": "markdown",
   "metadata": {},
   "source": [
    "# Random Function"
   ]
  },
  {
   "cell_type": "code",
   "execution_count": 8,
   "metadata": {},
   "outputs": [
    {
     "name": "stdout",
     "output_type": "stream",
     "text": [
      "random1: [[-0.0614919  -0.0012403  -0.03223115]\n",
      " [ 0.18066007  0.15610538 -0.04368369]]\n",
      "random2: [[-0.09070393 -0.00948893 -0.00205547]\n",
      " [ 0.1233022  -0.02860755 -0.02131384]]\n",
      "random3: [[88.51293   80.25347    2.0477772]\n",
      " [73.02084   38.05113   64.043106 ]]\n"
     ]
    }
   ],
   "source": [
    "random1 = tf.constant(tf.random.normal([2,3],  mean=0.0, stddev=0.1))\n",
    "random2 = tf.constant(tf.random.truncated_normal([2,3],  mean=0.0, stddev=0.1))\n",
    "random3 = tf.constant(tf.random.uniform([2,3], minval=0, maxval=100))\n",
    "\n",
    "print('random1: {}'.format(random1))\n",
    "print('random2: {}'.format(random2))\n",
    "print('random3: {}'.format(random3))"
   ]
  },
  {
   "cell_type": "markdown",
   "metadata": {},
   "source": [
    "# Constant Function"
   ]
  },
  {
   "cell_type": "code",
   "execution_count": 12,
   "metadata": {},
   "outputs": [
    {
     "name": "stdout",
     "output_type": "stream",
     "text": [
      "c1: [[0.]\n",
      " [0.]]\n",
      "c2: [[1. 1. 1.]\n",
      " [1. 1. 1.]]\n",
      "c3: [[9 9 9 9]\n",
      " [9 9 9 9]]\n",
      "c4: [2. 1.]\n"
     ]
    }
   ],
   "source": [
    "c1 = tf.zeros([2,1])\n",
    "c2 = tf.ones([2,3])\n",
    "c3 = tf.fill([2,4], 9)\n",
    "c4 = tf.constant([2.0,1.0])\n",
    "\n",
    "print('c1: {}'.format(c1))\n",
    "print('c2: {}'.format(c2))\n",
    "print('c3: {}'.format(c3))\n",
    "print('c4: {}'.format(c4))\n"
   ]
  },
  {
   "cell_type": "markdown",
   "metadata": {},
   "source": [
    "# Constant/Variable  \n",
    "Constant, variable, and placeholder can be set like the following. The difference among them is that \n",
    "1. constant can't be changed once define\n",
    "2. variable would change while learning. It need to be initialized by constant tensorflow."
   ]
  },
  {
   "cell_type": "code",
   "execution_count": 14,
   "metadata": {},
   "outputs": [
    {
     "name": "stdout",
     "output_type": "stream",
     "text": [
      "tf.Tensor(\n",
      "[[1.1 2.2]\n",
      " [3.3 4.4]], shape=(2, 2), dtype=float32)\n",
      "tf.Tensor(\n",
      "[[0. 0. 0.]\n",
      " [0. 0. 0.]], shape=(2, 3), dtype=float32)\n",
      "tf.Tensor([[ 0.85268366 -0.38222453  0.80098224]], shape=(1, 3), dtype=float32)\n",
      "<tf.Variable 'Variable:0' shape=(2, 2) dtype=float32, numpy=\n",
      "array([[1.1, 2.2],\n",
      "       [3.3, 4.4]], dtype=float32)>\n",
      "<tf.Variable 'Variable:0' shape=(2, 3) dtype=float32, numpy=\n",
      "array([[0., 0., 0.],\n",
      "       [0., 0., 0.]], dtype=float32)>\n",
      "<tf.Variable 'Variable:0' shape=(1, 3) dtype=float32, numpy=array([[-0.12044986,  0.9084426 , -0.9926602 ]], dtype=float32)>\n"
     ]
    }
   ],
   "source": [
    "x_constant1 = tf.constant([[1.1, 2.2],[3.3, 4.4]], dtype=tf.float32) # define float32 tensor\n",
    "x_constant2 = tf.zeros([2,3])\n",
    "x_constant3 = tf.random.normal([1,3], stddev=1)\n",
    "\n",
    "x_variable1 = tf.Variable(tf.constant([[1.1, 2.2],[3.3, 4.4]], dtype=tf.float32))\n",
    "x_variable2 = tf.Variable(tf.zeros([2,3]))\n",
    "x_variable3 = tf.Variable(tf.random.normal([1,3], stddev=1))\n",
    "\n",
    "print(x_constant1)\n",
    "print(x_constant2)\n",
    "print(x_constant3)\n",
    "\n",
    "print(x_variable1)\n",
    "print(x_variable2)\n",
    "print(x_variable3)"
   ]
  },
  {
   "cell_type": "markdown",
   "metadata": {},
   "source": [
    "#### tf.reduce_mean(x)數據平均值\n",
    "#### tf.reduce_sum(x)數據加總\n",
    "#### tf.math.abs(x)數據絕對值"
   ]
  },
  {
   "cell_type": "markdown",
   "metadata": {},
   "source": [
    "# Common Function"
   ]
  },
  {
   "cell_type": "code",
   "execution_count": 2,
   "metadata": {},
   "outputs": [
    {
     "name": "stdout",
     "output_type": "stream",
     "text": [
      "result1: 1.75\n",
      "result2: 7.0\n",
      "result3: [[1. 5.]\n",
      " [2. 3.]]\n"
     ]
    }
   ],
   "source": [
    "import tensorflow as tf\n",
    "x = tf.constant([[1., 5.], [-2., 3.]])\n",
    "result1 = tf.reduce_mean(x)\n",
    "result2 = tf.reduce_sum(x)\n",
    "result3 = tf.math.abs(x)\n",
    "print(\"result1: {}\".format(result1))\n",
    "print(\"result2: {}\".format(result2))\n",
    "print(\"result3: {}\".format(result3))\n"
   ]
  },
  {
   "cell_type": "markdown",
   "metadata": {},
   "source": [
    "#### tf.math.argmax( ) tf.math.argmin( )回傳數字組最大或最小的index"
   ]
  },
  {
   "cell_type": "code",
   "execution_count": 19,
   "metadata": {},
   "outputs": [
    {
     "name": "stdout",
     "output_type": "stream",
     "text": [
      "arg_max: [2 1 0]\n",
      "arg_min: [0 2 2]\n"
     ]
    }
   ],
   "source": [
    "test =tf.constant([[1.1, 2.2, 3.3],[4.5, 3.2, 2.1], [5, 0, -2]], dtype=tf.float32)\n",
    "arg_max = tf.math.argmax(test)\n",
    "arg_min = tf.math.argmin(test)\n",
    "print(\"arg_max: {}\".format(arg_max))\n",
    "print(\"arg_min: {}\".format(arg_min))"
   ]
  },
  {
   "cell_type": "markdown",
   "metadata": {},
   "source": [
    "## Unstack\n",
    "\n",
    "### unstack at axis = 0\n",
    "![Alt text](./images/basic_tensorflow/unstack_axis0.png)\n",
    "### unstack at axis = 1\n",
    "![Alt text](./images/basic_tensorflow/unstack_axis1.png)\n",
    "### unstack at axis = 2\n",
    "![Alt text](./images/basic_tensorflow/unstack_axis2.png)"
   ]
  },
  {
   "cell_type": "code",
   "execution_count": 21,
   "metadata": {},
   "outputs": [
    {
     "name": "stdout",
     "output_type": "stream",
     "text": [
      "tf.Tensor([0.7 0.9], shape=(2,), dtype=float32)\n",
      "tf.Tensor([0.1 0.4], shape=(2,), dtype=float32)\n",
      "tf.Tensor([0.5 0.8], shape=(2,), dtype=float32)\n"
     ]
    }
   ],
   "source": [
    "x = tf.constant([[0.7,0.9],[0.1,0.4],[0.5,0.8]], name='x')\n",
    "axis0_x = tf.unstack(x, axis=0)\n",
    "\n",
    "\n",
    "print(axis0_x[0])\n",
    "print(axis0_x[1])\n",
    "print(axis0_x[2])"
   ]
  },
  {
   "cell_type": "markdown",
   "metadata": {},
   "source": [
    "## Stack\n",
    "\n",
    "### origin data\n",
    "![Alt text](./images/basic_tensorflow/stack_origin.png)\n",
    "### stack at axis = 0\n",
    "![Alt text](./images/basic_tensorflow/stack_axis0.png)\n",
    "### stack at axis = 1\n",
    "![Alt text](./images/basic_tensorflow/stack_axis1.png)"
   ]
  },
  {
   "cell_type": "code",
   "execution_count": 24,
   "metadata": {},
   "outputs": [
    {
     "name": "stdout",
     "output_type": "stream",
     "text": [
      "tf.Tensor(\n",
      "[[[1. 2.]\n",
      "  [3. 4.]\n",
      "  [5. 6.]]\n",
      "\n",
      " [[1. 1.]\n",
      "  [0. 1.]\n",
      "  [1. 1.]]], shape=(2, 3, 2), dtype=float32)\n",
      "(2, 3, 2)\n",
      "tf.Tensor(\n",
      "[[[1. 2.]\n",
      "  [1. 1.]]\n",
      "\n",
      " [[3. 4.]\n",
      "  [0. 1.]]\n",
      "\n",
      " [[5. 6.]\n",
      "  [1. 1.]]], shape=(3, 2, 2), dtype=float32)\n",
      "(3, 2, 2)\n"
     ]
    }
   ],
   "source": [
    "x = tf.constant([[1.0, 2.0], [3.0, 4.0], [5.0, 6.0]], name='x')\n",
    "y = tf.constant([[1.0, 1.0], [0.0, 1.0], [1.0, 1.0]], name='y')\n",
    "\n",
    "stacked_axis0_result = tf.stack([x,y], axis=0)\n",
    "stacked_axis1_result = tf.stack([x,y], axis=1)\n",
    "\n",
    "\n",
    "print(stacked_axis0_result)\n",
    "print(stacked_axis0_result.shape)\n",
    "    \n",
    "print(stacked_axis1_result)\n",
    "print(stacked_axis1_result.shape)"
   ]
  },
  {
   "cell_type": "markdown",
   "metadata": {},
   "source": [
    "# TensorFlow Data\n",
    "#### TensorFlow2才有的 用for loop取出元素"
   ]
  },
  {
   "cell_type": "code",
   "execution_count": 57,
   "metadata": {},
   "outputs": [
    {
     "name": "stdout",
     "output_type": "stream",
     "text": [
      "8\n",
      "3\n",
      "0\n",
      "8\n",
      "2\n",
      "1\n"
     ]
    }
   ],
   "source": [
    "dataset = tf.data.Dataset.from_tensor_slices([8, 3, 0, 8, 2, 1])\n",
    "for elem in dataset:\n",
    "    print(elem.numpy())"
   ]
  },
  {
   "cell_type": "code",
   "execution_count": 4,
   "metadata": {},
   "outputs": [
    {
     "name": "stdout",
     "output_type": "stream",
     "text": [
      "8\n",
      "3\n",
      "0\n"
     ]
    }
   ],
   "source": [
    "dataset = tf.data.Dataset.from_tensor_slices([8, 3, 0, 8, 2, 1])\n",
    "it = iter(dataset)\n",
    "\n",
    "print(next(it).numpy())\n",
    "print(next(it).numpy())\n",
    "print(next(it).numpy())"
   ]
  },
  {
   "cell_type": "code",
   "execution_count": 2,
   "metadata": {},
   "outputs": [
    {
     "name": "stdout",
     "output_type": "stream",
     "text": [
      "x: 0, y: 0\n",
      "x: 1, y: 2\n",
      "x: 2, y: 4\n",
      "x: 3, y: 6\n",
      "x: 4, y: 8\n",
      "x: 5, y: 10\n"
     ]
    }
   ],
   "source": [
    "import tensorflow as tf\n",
    "x_data = tf.data.Dataset.from_tensor_slices([0, 1, 2, 3, 4, 5])\n",
    "y_data = tf.data.Dataset.from_tensor_slices([0, 2, 4, 6, 8, 10])\n",
    "\n",
    "for data1, data2 in zip(x_data, y_data):\n",
    "    print('x: {}, y: {}'.format(data1, data2))"
   ]
  },
  {
   "cell_type": "markdown",
   "metadata": {},
   "source": [
    "## .take(3)取到第三個"
   ]
  },
  {
   "cell_type": "code",
   "execution_count": 5,
   "metadata": {},
   "outputs": [
    {
     "name": "stdout",
     "output_type": "stream",
     "text": [
      "x: 0, y: 0\n",
      "x: 1, y: 2\n",
      "x: 2, y: 4\n"
     ]
    }
   ],
   "source": [
    "x_data = tf.data.Dataset.from_tensor_slices([0, 1, 2, 3, 4, 5])\n",
    "y_data = tf.data.Dataset.from_tensor_slices([0, 2, 4, 6, 8, 10])\n",
    "\n",
    "for data1, data2 in zip(x_data.take(3), y_data.take(3)):\n",
    "    print('x: {}, y: {}'.format(data1, data2))"
   ]
  },
  {
   "cell_type": "markdown",
   "metadata": {},
   "source": [
    "# Gradient  "
   ]
  },
  {
   "cell_type": "markdown",
   "metadata": {},
   "source": [
    "#### 去作微分 w初始值2 with tf.GradientTape( ) as t: 把想要微分的函數寫在裡面loss=w*w\n",
    "#### 用t.gradient(loss,w) 用 loss 針對 w作微分\n",
    "#### w 的平方的微分 2w \n",
    "- 只能call 一次 t.gradient(loss,w) 不能第二次 會出錯"
   ]
  },
  {
   "cell_type": "code",
   "execution_count": 23,
   "metadata": {},
   "outputs": [
    {
     "name": "stdout",
     "output_type": "stream",
     "text": [
      "tf.Tensor([4.], shape=(1,), dtype=float32)\n"
     ]
    }
   ],
   "source": [
    "w = tf.Variable(tf.constant([2.0]))\n",
    "\n",
    "with tf.GradientTape() as t:\n",
    "    loss = w * w\n",
    "grad = t.gradient(loss,w)\n",
    "print(grad)\n",
    "\n",
    "#grad = t.gradient(loss,w)"
   ]
  },
  {
   "cell_type": "markdown",
   "metadata": {},
   "source": [
    "#### persistent=True 就能call多次 t.gradient(loss,w)"
   ]
  },
  {
   "cell_type": "code",
   "execution_count": 26,
   "metadata": {},
   "outputs": [
    {
     "name": "stdout",
     "output_type": "stream",
     "text": [
      "tf.Tensor([4.], shape=(1,), dtype=float32)\n",
      "tf.Tensor([4.], shape=(1,), dtype=float32)\n"
     ]
    }
   ],
   "source": [
    "w = tf.Variable(tf.constant([2.0]))\n",
    "\n",
    "with tf.GradientTape(persistent=True) as t:\n",
    "    loss = w * w\n",
    "grad = t.gradient(loss,w)\n",
    "print(grad)\n",
    "grad = t.gradient(loss,w)\n",
    "print(grad)\n",
    "del t"
   ]
  },
  {
   "cell_type": "markdown",
   "metadata": {},
   "source": [
    "#### tf.constant([2.0])作微分 要加上t.watch(w)\n",
    "#### tf.Variable(tf.constant([2.0]))則不用"
   ]
  },
  {
   "cell_type": "code",
   "execution_count": 21,
   "metadata": {},
   "outputs": [
    {
     "name": "stdout",
     "output_type": "stream",
     "text": [
      "tf.Tensor([2.], shape=(1,), dtype=float32)\n"
     ]
    }
   ],
   "source": [
    "w = tf.constant([2.0])\n",
    "\n",
    "with tf.GradientTape() as t:\n",
    "    t.watch(w)\n",
    "    loss = w * w\n",
    "grad = t.gradient(loss,w)\n",
    "print(grad)\n",
    "\n",
    "#grad = t.gradient(loss,w)"
   ]
  },
  {
   "cell_type": "markdown",
   "metadata": {},
   "source": [
    "# Optimization - method 1"
   ]
  },
  {
   "cell_type": "code",
   "execution_count": 44,
   "metadata": {},
   "outputs": [
    {
     "name": "stdout",
     "output_type": "stream",
     "text": [
      "x: -0.25\n",
      "y: 6.0\n"
     ]
    }
   ],
   "source": [
    "import tensorflow as tf\n",
    "\n",
    "def fu_minimzie():\n",
    "    return 2*x*x + x + 3 \n",
    "\n",
    "x = tf.Variable(1.0) \n",
    "\n",
    "opt = tf.keras.optimizers.SGD(learning_rate=0.01)\n",
    "#opt = tf.keras.optimizers.Adagrad(learning_rate=0.01)\n",
    "#opt = tf.keras.optimizers.Adam(learning_rate=0.01)\n",
    "#opt = tf.keras.optimizers.RMSprop(learning_rate=0.01)\n",
    "for i in range(1000):\n",
    "    opt.minimize(fu_minimzie, var_list=[x])\n",
    "print('x: {}'.format(x.numpy()))\n",
    "print('y: {}'.format(y.numpy()))\n"
   ]
  },
  {
   "cell_type": "markdown",
   "metadata": {},
   "source": [
    "# Optimization - method 2"
   ]
  },
  {
   "cell_type": "code",
   "execution_count": 3,
   "metadata": {},
   "outputs": [
    {
     "name": "stdout",
     "output_type": "stream",
     "text": [
      "x: -0.2499999850988388\n",
      "y: 2.875\n"
     ]
    }
   ],
   "source": [
    "\n",
    "x = tf.Variable(1.0) \n",
    "\n",
    "opt = tf.keras.optimizers.SGD(learning_rate=0.1)\n",
    "for i in range(1000):\n",
    "\n",
    "    with tf.GradientTape() as tape:\n",
    "        y = 2*x*x + x + 3 \n",
    "    grads = tape.gradient(y, [x])\n",
    "    processed_grads = [g for g in grads]\n",
    "    grads_and_vars = zip(processed_grads, [x])\n",
    "#    print('y = {}, x = {}, grads = {} '.format(y.numpy(), x.numpy(), grads[0].numpy()))\n",
    "    \n",
    "    opt.apply_gradients(grads_and_vars)\n",
    "print('x: {}'.format(x.numpy()))\n",
    "print('y: {}'.format(y.numpy()))\n"
   ]
  },
  {
   "cell_type": "markdown",
   "metadata": {},
   "source": [
    "# Optimization - method 3"
   ]
  },
  {
   "cell_type": "code",
   "execution_count": 55,
   "metadata": {},
   "outputs": [
    {
     "name": "stdout",
     "output_type": "stream",
     "text": [
      "x: -0.2499999850988388\n",
      "y: 2.875\n"
     ]
    }
   ],
   "source": [
    "x = tf.Variable(1.0) \n",
    "\n",
    "for i in range(50):\n",
    "    with tf.GradientTape() as tape:\n",
    "        y = 2*x*x + x + 3 \n",
    "    grads = tape.gradient(y, [x])\n",
    "#    print('y = {}, x = {}, grads = {} '.format(y.numpy(), x.numpy(), grads[0].numpy()))\n",
    "    x.assign(x - 0.1*grads[0].numpy())\n",
    "print('x: {}'.format(x.numpy()))\n",
    "print('y: {}'.format(y.numpy()))"
   ]
  },
  {
   "cell_type": "code",
   "execution_count": null,
   "metadata": {},
   "outputs": [],
   "source": []
  }
 ],
 "metadata": {
  "kernelspec": {
   "display_name": "Python 3",
   "language": "python",
   "name": "python3"
  },
  "language_info": {
   "codemirror_mode": {
    "name": "ipython",
    "version": 3
   },
   "file_extension": ".py",
   "mimetype": "text/x-python",
   "name": "python",
   "nbconvert_exporter": "python",
   "pygments_lexer": "ipython3",
   "version": "3.8.8"
  }
 },
 "nbformat": 4,
 "nbformat_minor": 4
}
