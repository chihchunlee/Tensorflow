{
 "cells": [
  {
   "cell_type": "markdown",
   "id": "aggressive-cigarette",
   "metadata": {},
   "source": [
    "## Save and Restore Model\n",
    "TensorFlow saver can save/restore model or variable for future usage. Saver would produce theses three files:\n",
    "1. model.ckpt.meta: preserve computation graph\n",
    "2. model.ckpt: preserve variable in the graph\n",
    "3. checkpoint: preserve the latest model"
   ]
  },
  {
   "cell_type": "markdown",
   "id": "divided-undergraduate",
   "metadata": {},
   "source": [
    "## save model\n",
    "1. 節點命名\n",
    "2. saver.save"
   ]
  },
  {
   "cell_type": "code",
   "execution_count": 1,
   "id": "stone-humidity",
   "metadata": {},
   "outputs": [
    {
     "name": "stdout",
     "output_type": "stream",
     "text": [
      "[3.]\n"
     ]
    }
   ],
   "source": [
    "import tensorflow as tf\n",
    "v1 = tf.Variable(tf.constant(1.0, shape=[1]), name='v1')\n",
    "v2 = tf.Variable(tf.constant(2.0, shape=[1]), name='v2')\n",
    "result = tf.add(v1, v2, name=\"result\")\n",
    "saver = tf.train.Saver()\n",
    "\n",
    "with tf.Session() as sess:\n",
    "    sess.run(tf.global_variables_initializer()) \n",
    "    saver.save(sess, \"Saved_model/model.ckpt\")\n",
    "    print(sess.run(result))"
   ]
  },
  {
   "cell_type": "markdown",
   "id": "random-heart",
   "metadata": {},
   "source": [
    "## Restore Model 1 : import tensorflow as tf 把關係copy進來\n",
    "tf.reset_default_graph() 先把前面的計算清空 jupyter前面會影響後面\n",
    "1. 把關係copy進來 v1 v2\n",
    "2. 在saver.restore()把ckpt擋load回來"
   ]
  },
  {
   "cell_type": "code",
   "execution_count": 2,
   "id": "intensive-education",
   "metadata": {},
   "outputs": [
    {
     "name": "stdout",
     "output_type": "stream",
     "text": [
      "INFO:tensorflow:Restoring parameters from Saved_model/model.ckpt\n",
      "[3.]\n"
     ]
    }
   ],
   "source": [
    "import tensorflow as tf\n",
    "tf.reset_default_graph()\n",
    "v1 = tf.Variable(tf.constant(1.0, shape=[1]), name='v1')\n",
    "v2 = tf.Variable(tf.constant(2.0, shape=[1]), name='v2')\n",
    "result = v1 + v2\n",
    "saver = tf.train.Saver()\n",
    "\n",
    "with tf.Session() as sess:\n",
    "    saver.restore(sess, \"Saved_model/model.ckpt\")\n",
    "    print(sess.run(result))"
   ]
  },
  {
   "cell_type": "markdown",
   "id": "silver-leone",
   "metadata": {},
   "source": [
    "## Restore Model 2 : import_meta_graph 把關係import進來\n",
    "tf.reset_default_graph() 先把前面的計算清空 jupyter前面會影響後面\n",
    "1. import_meta_graph(\"Saved_model/model.ckpt.meta\")把關係model.ckpt.meta讀進來\n",
    "2. 因為讀進來他不認得名稱 所以要在sess.run(\"result:0\")要call節點的名稱\n",
    "3. result:0 :0是輸出第一個數字 +-*/ 兩個輸入 一個輸出 大部分指到 0"
   ]
  },
  {
   "cell_type": "code",
   "execution_count": 5,
   "id": "elegant-playing",
   "metadata": {},
   "outputs": [
    {
     "name": "stdout",
     "output_type": "stream",
     "text": [
      "INFO:tensorflow:Restoring parameters from Saved_model/model.ckpt\n",
      "[3.]\n"
     ]
    }
   ],
   "source": [
    "import tensorflow as tf\n",
    "tf.reset_default_graph()\n",
    "saver = tf.train.import_meta_graph(\"Saved_model/model.ckpt.meta\")\n",
    "with tf.Session() as sess:\n",
    "    saver.restore(sess, \"Saved_model/model.ckpt\")\n",
    "    print(sess.run(\"result:0\"))"
   ]
  },
  {
   "cell_type": "code",
   "execution_count": null,
   "id": "freelance-natural",
   "metadata": {},
   "outputs": [],
   "source": []
  }
 ],
 "metadata": {
  "kernelspec": {
   "display_name": "Python 3",
   "language": "python",
   "name": "python3"
  },
  "language_info": {
   "codemirror_mode": {
    "name": "ipython",
    "version": 3
   },
   "file_extension": ".py",
   "mimetype": "text/x-python",
   "name": "python",
   "nbconvert_exporter": "python",
   "pygments_lexer": "ipython3",
   "version": "3.7.10"
  }
 },
 "nbformat": 4,
 "nbformat_minor": 5
}
